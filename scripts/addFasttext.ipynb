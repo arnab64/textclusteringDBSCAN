{
 "cells": [
  {
   "cell_type": "code",
   "execution_count": 24,
   "metadata": {},
   "outputs": [
    {
     "ename": "ModuleNotFoundError",
     "evalue": "No module named 'nltk'",
     "output_type": "error",
     "traceback": [
      "\u001b[0;31m---------------------------------------------------------------------------\u001b[0m",
      "\u001b[0;31mModuleNotFoundError\u001b[0m                       Traceback (most recent call last)",
      "\u001b[0;32m<ipython-input-24-a31f33327173>\u001b[0m in \u001b[0;36m<module>\u001b[0;34m\u001b[0m\n\u001b[1;32m      3\u001b[0m \u001b[0;32mimport\u001b[0m \u001b[0mnumpy\u001b[0m \u001b[0;32mas\u001b[0m \u001b[0mnp\u001b[0m\u001b[0;34m\u001b[0m\u001b[0m\n\u001b[1;32m      4\u001b[0m \u001b[0;32mimport\u001b[0m \u001b[0mmatplotlib\u001b[0m \u001b[0;32mas\u001b[0m \u001b[0mmpl\u001b[0m\u001b[0;34m\u001b[0m\u001b[0m\n\u001b[0;32m----> 5\u001b[0;31m \u001b[0;32mimport\u001b[0m \u001b[0mnltk\u001b[0m\u001b[0;34m,\u001b[0m\u001b[0mre\u001b[0m\u001b[0;34m,\u001b[0m\u001b[0mpprint\u001b[0m\u001b[0;34m\u001b[0m\u001b[0m\n\u001b[0m\u001b[1;32m      6\u001b[0m \u001b[0;32mimport\u001b[0m \u001b[0msys\u001b[0m\u001b[0;34m,\u001b[0m\u001b[0mglob\u001b[0m\u001b[0;34m,\u001b[0m\u001b[0mos\u001b[0m\u001b[0;34m\u001b[0m\u001b[0m\n\u001b[1;32m      7\u001b[0m \u001b[0;32mfrom\u001b[0m \u001b[0mimp\u001b[0m \u001b[0;32mimport\u001b[0m \u001b[0mreload\u001b[0m\u001b[0;34m\u001b[0m\u001b[0m\n",
      "\u001b[0;31mModuleNotFoundError\u001b[0m: No module named 'nltk'"
     ]
    }
   ],
   "source": [
    "import fasttext\n",
    "import pandas as pd\n",
    "import numpy as np\n",
    "import matplotlib as mpl\n",
    "import nltk,re,pprint\n",
    "import sys,glob,os\n",
    "from imp import reload\n",
    "from nltk.corpus import stopwords"
   ]
  },
  {
   "cell_type": "code",
   "execution_count": 2,
   "metadata": {},
   "outputs": [
    {
     "name": "stderr",
     "output_type": "stream",
     "text": [
      "/Library/Frameworks/Python.framework/Versions/3.6/lib/python3.6/site-packages/IPython/core/interactiveshell.py:3072: DtypeWarning: Columns (13,14,15) have mixed types.Specify dtype option on import or set low_memory=False.\n",
      "  interactivity=interactivity, compiler=compiler, result=result)\n"
     ]
    }
   ],
   "source": [
    "kickstarter2016 = pd.read_csv(\"../datasets/kickstarterProjects/ks-projects-201612.csv\", encoding=\"latin\")"
   ]
  },
  {
   "cell_type": "code",
   "execution_count": 5,
   "metadata": {},
   "outputs": [],
   "source": [
    " dataAnalyst = pd.read_csv(\"../datasets/DataAnalyst.csv\", encoding=\"latin\")"
   ]
  },
  {
   "cell_type": "code",
   "execution_count": 6,
   "metadata": {},
   "outputs": [
    {
     "data": {
      "text/plain": [
       "89"
      ]
     },
     "execution_count": 6,
     "metadata": {},
     "output_type": "execute_result"
    }
   ],
   "source": [
    "len(dataAnalyst[\"Industry\"].unique())"
   ]
  },
  {
   "cell_type": "code",
   "execution_count": 7,
   "metadata": {},
   "outputs": [],
   "source": [
    "dataAnalystSmall = dataAnalyst[['Job Description', 'Company Name', 'Industry']]"
   ]
  },
  {
   "cell_type": "code",
   "execution_count": 8,
   "metadata": {},
   "outputs": [
    {
     "data": {
      "text/html": [
       "<div>\n",
       "<style scoped>\n",
       "    .dataframe tbody tr th:only-of-type {\n",
       "        vertical-align: middle;\n",
       "    }\n",
       "\n",
       "    .dataframe tbody tr th {\n",
       "        vertical-align: top;\n",
       "    }\n",
       "\n",
       "    .dataframe thead th {\n",
       "        text-align: right;\n",
       "    }\n",
       "</style>\n",
       "<table border=\"1\" class=\"dataframe\">\n",
       "  <thead>\n",
       "    <tr style=\"text-align: right;\">\n",
       "      <th></th>\n",
       "      <th>Job Description</th>\n",
       "      <th>Company Name</th>\n",
       "      <th>Industry</th>\n",
       "    </tr>\n",
       "  </thead>\n",
       "  <tbody>\n",
       "    <tr>\n",
       "      <th>0</th>\n",
       "      <td>Are you eager to roll up your sleeves and harn...</td>\n",
       "      <td>Vera Institute of Justice\\n3.2</td>\n",
       "      <td>Social Assistance</td>\n",
       "    </tr>\n",
       "    <tr>\n",
       "      <th>1</th>\n",
       "      <td>Overview\\n\\nProvides analytical and technical ...</td>\n",
       "      <td>Visiting Nurse Service of New York\\n3.8</td>\n",
       "      <td>Health Care Services &amp; Hospitals</td>\n",
       "    </tr>\n",
       "    <tr>\n",
       "      <th>2</th>\n",
       "      <td>Weâre looking for a Senior Data Analyst who ...</td>\n",
       "      <td>Squarespace\\n3.4</td>\n",
       "      <td>Internet</td>\n",
       "    </tr>\n",
       "    <tr>\n",
       "      <th>3</th>\n",
       "      <td>Requisition NumberRR-0001939\\nRemote:Yes\\nWe c...</td>\n",
       "      <td>Celerity\\n4.1</td>\n",
       "      <td>IT Services</td>\n",
       "    </tr>\n",
       "    <tr>\n",
       "      <th>4</th>\n",
       "      <td>ABOUT FANDUEL GROUP\\n\\nFanDuel Group is a worl...</td>\n",
       "      <td>FanDuel\\n3.9</td>\n",
       "      <td>Sports &amp; Recreation</td>\n",
       "    </tr>\n",
       "    <tr>\n",
       "      <th>...</th>\n",
       "      <td>...</td>\n",
       "      <td>...</td>\n",
       "      <td>...</td>\n",
       "    </tr>\n",
       "    <tr>\n",
       "      <th>2248</th>\n",
       "      <td>Maintains systems to protect data from unautho...</td>\n",
       "      <td>Avacend, Inc.\\n2.5</td>\n",
       "      <td>Staffing &amp; Outsourcing</td>\n",
       "    </tr>\n",
       "    <tr>\n",
       "      <th>2249</th>\n",
       "      <td>Position:\\nSenior Data Analyst (Corporate Audi...</td>\n",
       "      <td>Arrow Electronics\\n2.9</td>\n",
       "      <td>Wholesale</td>\n",
       "    </tr>\n",
       "    <tr>\n",
       "      <th>2250</th>\n",
       "      <td>Title: Technical Business Analyst (SQL, Data a...</td>\n",
       "      <td>Spiceorb</td>\n",
       "      <td>-1</td>\n",
       "    </tr>\n",
       "    <tr>\n",
       "      <th>2251</th>\n",
       "      <td>Summary\\n\\nResponsible for working cross-funct...</td>\n",
       "      <td>Contingent Network Services\\n3.1</td>\n",
       "      <td>Enterprise Software &amp; Network Solutions</td>\n",
       "    </tr>\n",
       "    <tr>\n",
       "      <th>2252</th>\n",
       "      <td>You.\\n\\nYou bring your body, mind, heart and s...</td>\n",
       "      <td>SCL Health\\n3.4</td>\n",
       "      <td>Health Care Services &amp; Hospitals</td>\n",
       "    </tr>\n",
       "  </tbody>\n",
       "</table>\n",
       "<p>2253 rows × 3 columns</p>\n",
       "</div>"
      ],
      "text/plain": [
       "                                        Job Description  \\\n",
       "0     Are you eager to roll up your sleeves and harn...   \n",
       "1     Overview\\n\\nProvides analytical and technical ...   \n",
       "2     Weâre looking for a Senior Data Analyst who ...   \n",
       "3     Requisition NumberRR-0001939\\nRemote:Yes\\nWe c...   \n",
       "4     ABOUT FANDUEL GROUP\\n\\nFanDuel Group is a worl...   \n",
       "...                                                 ...   \n",
       "2248  Maintains systems to protect data from unautho...   \n",
       "2249  Position:\\nSenior Data Analyst (Corporate Audi...   \n",
       "2250  Title: Technical Business Analyst (SQL, Data a...   \n",
       "2251  Summary\\n\\nResponsible for working cross-funct...   \n",
       "2252  You.\\n\\nYou bring your body, mind, heart and s...   \n",
       "\n",
       "                                 Company Name  \\\n",
       "0              Vera Institute of Justice\\n3.2   \n",
       "1     Visiting Nurse Service of New York\\n3.8   \n",
       "2                            Squarespace\\n3.4   \n",
       "3                               Celerity\\n4.1   \n",
       "4                                FanDuel\\n3.9   \n",
       "...                                       ...   \n",
       "2248                       Avacend, Inc.\\n2.5   \n",
       "2249                   Arrow Electronics\\n2.9   \n",
       "2250                                 Spiceorb   \n",
       "2251         Contingent Network Services\\n3.1   \n",
       "2252                          SCL Health\\n3.4   \n",
       "\n",
       "                                     Industry  \n",
       "0                           Social Assistance  \n",
       "1            Health Care Services & Hospitals  \n",
       "2                                    Internet  \n",
       "3                                 IT Services  \n",
       "4                         Sports & Recreation  \n",
       "...                                       ...  \n",
       "2248                   Staffing & Outsourcing  \n",
       "2249                                Wholesale  \n",
       "2250                                       -1  \n",
       "2251  Enterprise Software & Network Solutions  \n",
       "2252         Health Care Services & Hospitals  \n",
       "\n",
       "[2253 rows x 3 columns]"
      ]
     },
     "execution_count": 8,
     "metadata": {},
     "output_type": "execute_result"
    }
   ],
   "source": [
    "dataAnalystSmall"
   ]
  },
  {
   "cell_type": "code",
   "execution_count": 9,
   "metadata": {},
   "outputs": [],
   "source": [
    "dataAnalystGrouped = dataAnalystSmall.groupby(['Industry']).count()"
   ]
  },
  {
   "cell_type": "code",
   "execution_count": 10,
   "metadata": {},
   "outputs": [
    {
     "name": "stdout",
     "output_type": "stream",
     "text": [
      "                                           Job Description  Company Name\n",
      "Industry                                                                \n",
      "-1                                                     353           352\n",
      "IT Services                                            325           325\n",
      "Staffing & Outsourcing                                 323           323\n",
      "Health Care Services & Hospitals                       151           151\n",
      "Consulting                                             111           111\n",
      "Computer Hardware & Software                           111           111\n",
      "Investment Banking & Asset Management                   78            78\n",
      "Enterprise Software & Network Solutions                 69            69\n",
      "Internet                                                65            65\n",
      "Banks & Credit Unions                                   51            51\n",
      "Advertising & Marketing                                 51            51\n",
      "Insurance Carriers                                      47            47\n",
      "Colleges & Universities                                 40            40\n",
      "Accounting                                              39            39\n",
      "Biotech & Pharmaceuticals                               33            33\n",
      "Social Assistance                                       23            23\n",
      "Aerospace & Defense                                     22            22\n",
      "Video Games                                             20            20\n",
      "Lending                                                 15            15\n",
      "State & Regional Agencies                               15            15\n",
      "Architectural & Engineering Services                    13            13\n",
      "Health, Beauty, & Fitness                               13            13\n",
      "Logistics & Supply Chain                                13            13\n",
      "Federal Agencies                                        12            12\n",
      "Real Estate                                             12            12\n",
      "Research & Development                                  12            12\n",
      "Consumer Products Manufacturing                         10            10\n",
      "Financial Transaction Processing                        10            10\n",
      "TV Broadcast & Cable Networks                           10            10\n",
      "Municipal Governments                                    9             9\n",
      "Construction                                             8             8\n",
      "Energy                                                   7             7\n",
      "Industrial Manufacturing                                 7             7\n",
      "Venture Capital & Private Equity                         6             6\n",
      "K-12 Education                                           6             6\n",
      "Telecommunications Services                              6             6\n",
      "Motion Picture Production & Distribution                 6             6\n",
      "Wholesale                                                6             6\n",
      "Brokerage Services                                       6             6\n",
      "Commercial Equipment Repair & Maintenance                6             6\n",
      "Electrical & Electronic Manufacturing                    6             6\n",
      "Food & Beverage Manufacturing                            6             6\n",
      "Department, Clothing, & Shoe Stores                      5             5\n",
      "Publishing                                               5             5\n",
      "Health Care Products Manufacturing                       5             5\n",
      "Casual Restaurants                                       5             5\n",
      "Home Centers & Hardware Stores                           5             5\n",
      "Cable, Internet & Telephone Providers                    5             5\n",
      "Insurance Agencies & Brokerages                          4             4\n",
      "Legal                                                    4             4\n",
      "Membership Organizations                                 4             4\n",
      "Transportation Management                                4             4\n",
      "Oil & Gas Services                                       4             4\n",
      "Automotive Parts & Accessories Stores                    4             4\n",
      "Other Retail Stores                                      3             3\n",
      "Gas Stations                                             3             3\n",
      "Sports & Recreation                                      3             3\n",
      "Preschool & Child Care                                   3             3\n",
      "Transportation Equipment Manufacturing                   3             3\n",
      "Vehicle Dealers                                          3             3\n",
      "General Merchandise & Superstores                        3             3\n",
      "Health Fundraising Organizations                         3             3\n",
      "Grocery Stores & Supermarkets                            3             3\n",
      "Education Training Services                              3             3\n",
      "Gambling                                                 3             3\n",
      "Financial Analytics & Research                           2             2\n",
      "Beauty & Personal Accessories Stores                     2             2\n",
      "General Repair & Maintenance                             2             2\n",
      "Convenience Stores & Truck Stops                         2             2\n",
      "Drug & Health Stores                                     2             2\n",
      "Utilities                                                2             2\n",
      "Security Services                                        2             2\n",
      "Miscellaneous Manufacturing                              2             2\n",
      "Building & Personnel Services                            2             2\n",
      "Food & Beverage Stores                                   2             2\n",
      "Audiovisual                                              1             1\n",
      "Trucking                                                 1             1\n",
      "Truck Rental & Leasing                                   1             1\n",
      "Consumer Electronics & Appliances Stores                 1             1\n",
      "Hotels, Motels, & Resorts                                1             1\n",
      "Stock Exchanges                                          1             1\n",
      "Express Delivery Services                                1             1\n",
      "Sporting Goods Stores                                    1             1\n",
      "Catering & Food Service Contractors                      1             1\n",
      "Chemical Manufacturing                                   1             1\n",
      "Pet & Pet Supplies Stores                                1             1\n",
      "Consumer Product Rental                                  1             1\n",
      "Metals Brokers                                           1             1\n",
      "News Outlet                                              1             1\n"
     ]
    }
   ],
   "source": [
    "pd.set_option('display.max_rows', 500)\n",
    "print(dataAnalystGrouped.sort_values(by=['Job Description'], ascending=False))"
   ]
  },
  {
   "cell_type": "code",
   "execution_count": 17,
   "metadata": {},
   "outputs": [
    {
     "name": "stdout",
     "output_type": "stream",
     "text": [
      "Industry\n",
      "Job Description\n"
     ]
    }
   ],
   "source": [
    "for col in dataAnalystTopCatGrouped.columns: \n",
    "    print(col) "
   ]
  },
  {
   "cell_type": "code",
   "execution_count": 12,
   "metadata": {},
   "outputs": [
    {
     "data": {
      "text/plain": [
       "(89, 2)"
      ]
     },
     "execution_count": 12,
     "metadata": {},
     "output_type": "execute_result"
    }
   ],
   "source": [
    "dataAnalystGrouped.shape"
   ]
  },
  {
   "cell_type": "code",
   "execution_count": 13,
   "metadata": {},
   "outputs": [],
   "source": [
    "dataAnalystTopCat = dataAnalystSmall[dataAnalystSmall[\"Industry\"].isin(['IT Services', 'Staffing & Outsourcing', 'Health Care Services & Hospitals', 'Consulting',\n",
    "'Computer Hardware & Software', 'Investment Banking & Asset Management', 'Enterprise Software & Network Solutions', 'Internet',\n",
    "'Banks & Credit Unions', 'Advertising & Marketing'])]"
   ]
  },
  {
   "cell_type": "code",
   "execution_count": 14,
   "metadata": {},
   "outputs": [],
   "source": [
    "dataAnalystTopCatGrouped = dataAnalystTopCat.groupby(['Industry'])['Job Description'].apply(lambda x: ','.join(x)).reset_index()"
   ]
  },
  {
   "cell_type": "code",
   "execution_count": 15,
   "metadata": {},
   "outputs": [
    {
     "name": "stdout",
     "output_type": "stream",
     "text": [
      "(10, 2)\n"
     ]
    },
    {
     "data": {
      "text/html": [
       "<div>\n",
       "<style scoped>\n",
       "    .dataframe tbody tr th:only-of-type {\n",
       "        vertical-align: middle;\n",
       "    }\n",
       "\n",
       "    .dataframe tbody tr th {\n",
       "        vertical-align: top;\n",
       "    }\n",
       "\n",
       "    .dataframe thead th {\n",
       "        text-align: right;\n",
       "    }\n",
       "</style>\n",
       "<table border=\"1\" class=\"dataframe\">\n",
       "  <thead>\n",
       "    <tr style=\"text-align: right;\">\n",
       "      <th></th>\n",
       "      <th>index</th>\n",
       "      <th>Industry</th>\n",
       "      <th>Job Description</th>\n",
       "    </tr>\n",
       "  </thead>\n",
       "  <tbody>\n",
       "    <tr>\n",
       "      <th>0</th>\n",
       "      <td>0</td>\n",
       "      <td>Advertising &amp; Marketing</td>\n",
       "      <td>About Known\\n\\nKnown is a modern marketing com...</td>\n",
       "    </tr>\n",
       "    <tr>\n",
       "      <th>1</th>\n",
       "      <td>1</td>\n",
       "      <td>Banks &amp; Credit Unions</td>\n",
       "      <td>Job Description:\\n\\nWithin GMC, Data &amp; Portfol...</td>\n",
       "    </tr>\n",
       "    <tr>\n",
       "      <th>2</th>\n",
       "      <td>2</td>\n",
       "      <td>Computer Hardware &amp; Software</td>\n",
       "      <td>If interested, please reach out to Iram Shah e...</td>\n",
       "    </tr>\n",
       "    <tr>\n",
       "      <th>3</th>\n",
       "      <td>3</td>\n",
       "      <td>Consulting</td>\n",
       "      <td>About Us:\\n\\nNYSTEC is a non-profit technology...</td>\n",
       "    </tr>\n",
       "    <tr>\n",
       "      <th>4</th>\n",
       "      <td>4</td>\n",
       "      <td>Enterprise Software &amp; Network Solutions</td>\n",
       "      <td>Data Analyst Jersey City, NJ 12+ months contra...</td>\n",
       "    </tr>\n",
       "    <tr>\n",
       "      <th>5</th>\n",
       "      <td>5</td>\n",
       "      <td>Health Care Services &amp; Hospitals</td>\n",
       "      <td>Overview\\n\\nProvides analytical and technical ...</td>\n",
       "    </tr>\n",
       "    <tr>\n",
       "      <th>6</th>\n",
       "      <td>6</td>\n",
       "      <td>IT Services</td>\n",
       "      <td>Requisition NumberRR-0001939\\nRemote:Yes\\nWe c...</td>\n",
       "    </tr>\n",
       "    <tr>\n",
       "      <th>7</th>\n",
       "      <td>7</td>\n",
       "      <td>Internet</td>\n",
       "      <td>Weâre looking for a Senior Data Analyst who ...</td>\n",
       "    </tr>\n",
       "    <tr>\n",
       "      <th>8</th>\n",
       "      <td>8</td>\n",
       "      <td>Investment Banking &amp; Asset Management</td>\n",
       "      <td>About Cubist\\nCubist Systematic Strategies is ...</td>\n",
       "    </tr>\n",
       "    <tr>\n",
       "      <th>9</th>\n",
       "      <td>9</td>\n",
       "      <td>Staffing &amp; Outsourcing</td>\n",
       "      <td>Title: Data Analyst\\n\\nPosition: 1+ Year Contr...</td>\n",
       "    </tr>\n",
       "  </tbody>\n",
       "</table>\n",
       "</div>"
      ],
      "text/plain": [
       "   index                                 Industry  \\\n",
       "0      0                  Advertising & Marketing   \n",
       "1      1                    Banks & Credit Unions   \n",
       "2      2             Computer Hardware & Software   \n",
       "3      3                               Consulting   \n",
       "4      4  Enterprise Software & Network Solutions   \n",
       "5      5         Health Care Services & Hospitals   \n",
       "6      6                              IT Services   \n",
       "7      7                                 Internet   \n",
       "8      8    Investment Banking & Asset Management   \n",
       "9      9                   Staffing & Outsourcing   \n",
       "\n",
       "                                     Job Description  \n",
       "0  About Known\\n\\nKnown is a modern marketing com...  \n",
       "1  Job Description:\\n\\nWithin GMC, Data & Portfol...  \n",
       "2  If interested, please reach out to Iram Shah e...  \n",
       "3  About Us:\\n\\nNYSTEC is a non-profit technology...  \n",
       "4  Data Analyst Jersey City, NJ 12+ months contra...  \n",
       "5  Overview\\n\\nProvides analytical and technical ...  \n",
       "6  Requisition NumberRR-0001939\\nRemote:Yes\\nWe c...  \n",
       "7  Weâre looking for a Senior Data Analyst who ...  \n",
       "8  About Cubist\\nCubist Systematic Strategies is ...  \n",
       "9  Title: Data Analyst\\n\\nPosition: 1+ Year Contr...  "
      ]
     },
     "execution_count": 15,
     "metadata": {},
     "output_type": "execute_result"
    }
   ],
   "source": [
    "print(dataAnalystTopCatGrouped.shape)\n",
    "dataAnalystTopCatGrouped.reset_index()"
   ]
  },
  {
   "cell_type": "code",
   "execution_count": 16,
   "metadata": {},
   "outputs": [
    {
     "data": {
      "text/plain": [
       "(10,)"
      ]
     },
     "execution_count": 16,
     "metadata": {},
     "output_type": "execute_result"
    }
   ],
   "source": [
    "dataAnalystTopCatGrouped[\"Job Description\"].shape"
   ]
  },
  {
   "cell_type": "code",
   "execution_count": 23,
   "metadata": {},
   "outputs": [
    {
     "name": "stdout",
     "output_type": "stream",
     "text": [
      "Advertising & Marketing ../processFiles/trainCatFiles/cat0_Advertising-&-Marketing.txt\n",
      "Banks & Credit Unions ../processFiles/trainCatFiles/cat1_Banks-&-Credit-Unions.txt\n",
      "Computer Hardware & Software ../processFiles/trainCatFiles/cat2_Computer-Hardware-&-Software.txt\n",
      "Consulting ../processFiles/trainCatFiles/cat3_Consulting.txt\n",
      "Enterprise Software & Network Solutions ../processFiles/trainCatFiles/cat4_Enterprise-Software-&-Network-Solutions.txt\n",
      "Health Care Services & Hospitals ../processFiles/trainCatFiles/cat5_Health-Care-Services-&-Hospitals.txt\n",
      "IT Services ../processFiles/trainCatFiles/cat6_IT-Services.txt\n",
      "Internet ../processFiles/trainCatFiles/cat7_Internet.txt\n",
      "Investment Banking & Asset Management ../processFiles/trainCatFiles/cat8_Investment-Banking-&-Asset-Management.txt\n",
      "Staffing & Outsourcing ../processFiles/trainCatFiles/cat9_Staffing-&-Outsourcing.txt\n"
     ]
    }
   ],
   "source": [
    "for index, row in dataAnalystTopCatGrouped.iterrows():\n",
    "    ofname = '../processFiles/trainCatFiles/cat' + str(index)+ '_' + '-'.join(row['Industry'].split()) + '.txt'\n",
    "    print(row['Industry'],ofname)\n",
    "    ofile = open(ofname,\"a\")\n",
    "    ofile.writelines(row['Job Description'])"
   ]
  },
  {
   "cell_type": "code",
   "execution_count": null,
   "metadata": {},
   "outputs": [],
   "source": []
  }
 ],
 "metadata": {
  "kernelspec": {
   "display_name": "Python 3",
   "language": "python",
   "name": "python3"
  },
  "language_info": {
   "codemirror_mode": {
    "name": "ipython",
    "version": 3
   },
   "file_extension": ".py",
   "mimetype": "text/x-python",
   "name": "python",
   "nbconvert_exporter": "python",
   "pygments_lexer": "ipython3",
   "version": "3.6.5"
  }
 },
 "nbformat": 4,
 "nbformat_minor": 4
}

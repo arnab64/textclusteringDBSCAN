{
 "cells": [
  {
   "cell_type": "code",
   "execution_count": 1,
   "metadata": {},
   "outputs": [],
   "source": [
    "import fasttext\n",
    "import pandas as pd\n",
    "import numpy as np\n",
    "import matplotlib as mpl\n",
    "import nltk,re,pprint\n",
    "import sys,glob,os\n",
    "from imp import reload\n",
    "from nltk.corpus import stopwords"
   ]
  },
  {
   "cell_type": "code",
   "execution_count": 6,
   "metadata": {},
   "outputs": [],
   "source": [
    "def getallfilenames(foldername):#returns the name of all files inside the source folder. \t\t\n",
    "    owd = os.getcwd()\n",
    "    fld = foldername + \"/\"\n",
    "    os.chdir(fld)\t\t\t\t\t#this is the name of the folder from which the file names are returned.\n",
    "    fnamearr = []\t\t\t\t\t\t#empty array, the names of files are appended to this array, and returned.\n",
    "    for file in glob.glob(\"*.txt\"):\n",
    "        fnamearr.append(file)\n",
    "    os.chdir(owd)\n",
    "    return fnamearr"
   ]
  },
  {
   "cell_type": "code",
   "execution_count": 7,
   "metadata": {},
   "outputs": [
    {
     "data": {
      "text/plain": [
       "['cat1_Banks&CreditUnions.txt',\n",
       " 'cat8_InvestmentBanking&AssetManagement.txt',\n",
       " 'cat0_Advertising&Marketing.txt',\n",
       " 'cat7_Internet.txt',\n",
       " 'cat6_ITServices.txt',\n",
       " 'cat5_HealthCareServices&Hospitals.txt',\n",
       " 'cat3_Consulting.txt',\n",
       " 'cat9_Staffing&Outsourcing.txt',\n",
       " 'cat4_EnterpriseSoftware&NetworkSolutions.txt',\n",
       " 'cat2_ComputerHardware&Software.txt']"
      ]
     },
     "execution_count": 7,
     "metadata": {},
     "output_type": "execute_result"
    }
   ],
   "source": [
    "allfnames = getallfilenames(\"/Users/arnabborah/Documents/repositories/textclusteringDBSCAN/processFiles/trainCatFiles\")\n",
    "allfnames"
   ]
  },
  {
   "cell_type": "code",
   "execution_count": null,
   "metadata": {},
   "outputs": [],
   "source": []
  }
 ],
 "metadata": {
  "kernelspec": {
   "display_name": "Python 3",
   "language": "python",
   "name": "python3"
  },
  "language_info": {
   "codemirror_mode": {
    "name": "ipython",
    "version": 3
   },
   "file_extension": ".py",
   "mimetype": "text/x-python",
   "name": "python",
   "nbconvert_exporter": "python",
   "pygments_lexer": "ipython3",
   "version": "3.6.5"
  }
 },
 "nbformat": 4,
 "nbformat_minor": 4
}

{
 "cells": [
  {
   "cell_type": "code",
   "execution_count": 2,
   "metadata": {},
   "outputs": [],
   "source": [
    "import fasttext\n",
    "import pandas as pd\n",
    "import numpy as np\n",
    "import matplotlib as mpl\n",
    "import nltk,re,pprint\n",
    "import sys,glob,os\n",
    "from imp import reload\n",
    "from nltk.corpus import stopwords"
   ]
  },
  {
   "cell_type": "code",
   "execution_count": 2,
   "metadata": {},
   "outputs": [],
   "source": [
    " dataAnalyst = pd.read_csv(\"../datasets/DataAnalyst.csv\", encoding=\"latin\")"
   ]
  },
  {
   "cell_type": "code",
   "execution_count": 3,
   "metadata": {},
   "outputs": [
    {
     "data": {
      "text/plain": [
       "89"
      ]
     },
     "execution_count": 3,
     "metadata": {},
     "output_type": "execute_result"
    }
   ],
   "source": [
    "len(dataAnalyst[\"Industry\"].unique())"
   ]
  },
  {
   "cell_type": "code",
   "execution_count": 4,
   "metadata": {},
   "outputs": [],
   "source": [
    "dataAnalystSmall = dataAnalyst[['Job Description', 'Company Name', 'Industry']]"
   ]
  },
  {
   "cell_type": "code",
   "execution_count": 5,
   "metadata": {},
   "outputs": [
    {
     "data": {
      "text/html": [
       "<div>\n",
       "<style scoped>\n",
       "    .dataframe tbody tr th:only-of-type {\n",
       "        vertical-align: middle;\n",
       "    }\n",
       "\n",
       "    .dataframe tbody tr th {\n",
       "        vertical-align: top;\n",
       "    }\n",
       "\n",
       "    .dataframe thead th {\n",
       "        text-align: right;\n",
       "    }\n",
       "</style>\n",
       "<table border=\"1\" class=\"dataframe\">\n",
       "  <thead>\n",
       "    <tr style=\"text-align: right;\">\n",
       "      <th></th>\n",
       "      <th>Job Description</th>\n",
       "      <th>Company Name</th>\n",
       "      <th>Industry</th>\n",
       "    </tr>\n",
       "  </thead>\n",
       "  <tbody>\n",
       "    <tr>\n",
       "      <th>0</th>\n",
       "      <td>Are you eager to roll up your sleeves and harn...</td>\n",
       "      <td>Vera Institute of Justice\\n3.2</td>\n",
       "      <td>Social Assistance</td>\n",
       "    </tr>\n",
       "    <tr>\n",
       "      <th>1</th>\n",
       "      <td>Overview\\n\\nProvides analytical and technical ...</td>\n",
       "      <td>Visiting Nurse Service of New York\\n3.8</td>\n",
       "      <td>Health Care Services &amp; Hospitals</td>\n",
       "    </tr>\n",
       "    <tr>\n",
       "      <th>2</th>\n",
       "      <td>Weâre looking for a Senior Data Analyst who ...</td>\n",
       "      <td>Squarespace\\n3.4</td>\n",
       "      <td>Internet</td>\n",
       "    </tr>\n",
       "    <tr>\n",
       "      <th>3</th>\n",
       "      <td>Requisition NumberRR-0001939\\nRemote:Yes\\nWe c...</td>\n",
       "      <td>Celerity\\n4.1</td>\n",
       "      <td>IT Services</td>\n",
       "    </tr>\n",
       "    <tr>\n",
       "      <th>4</th>\n",
       "      <td>ABOUT FANDUEL GROUP\\n\\nFanDuel Group is a worl...</td>\n",
       "      <td>FanDuel\\n3.9</td>\n",
       "      <td>Sports &amp; Recreation</td>\n",
       "    </tr>\n",
       "    <tr>\n",
       "      <th>...</th>\n",
       "      <td>...</td>\n",
       "      <td>...</td>\n",
       "      <td>...</td>\n",
       "    </tr>\n",
       "    <tr>\n",
       "      <th>2248</th>\n",
       "      <td>Maintains systems to protect data from unautho...</td>\n",
       "      <td>Avacend, Inc.\\n2.5</td>\n",
       "      <td>Staffing &amp; Outsourcing</td>\n",
       "    </tr>\n",
       "    <tr>\n",
       "      <th>2249</th>\n",
       "      <td>Position:\\nSenior Data Analyst (Corporate Audi...</td>\n",
       "      <td>Arrow Electronics\\n2.9</td>\n",
       "      <td>Wholesale</td>\n",
       "    </tr>\n",
       "    <tr>\n",
       "      <th>2250</th>\n",
       "      <td>Title: Technical Business Analyst (SQL, Data a...</td>\n",
       "      <td>Spiceorb</td>\n",
       "      <td>-1</td>\n",
       "    </tr>\n",
       "    <tr>\n",
       "      <th>2251</th>\n",
       "      <td>Summary\\n\\nResponsible for working cross-funct...</td>\n",
       "      <td>Contingent Network Services\\n3.1</td>\n",
       "      <td>Enterprise Software &amp; Network Solutions</td>\n",
       "    </tr>\n",
       "    <tr>\n",
       "      <th>2252</th>\n",
       "      <td>You.\\n\\nYou bring your body, mind, heart and s...</td>\n",
       "      <td>SCL Health\\n3.4</td>\n",
       "      <td>Health Care Services &amp; Hospitals</td>\n",
       "    </tr>\n",
       "  </tbody>\n",
       "</table>\n",
       "<p>2253 rows × 3 columns</p>\n",
       "</div>"
      ],
      "text/plain": [
       "                                        Job Description  \\\n",
       "0     Are you eager to roll up your sleeves and harn...   \n",
       "1     Overview\\n\\nProvides analytical and technical ...   \n",
       "2     Weâre looking for a Senior Data Analyst who ...   \n",
       "3     Requisition NumberRR-0001939\\nRemote:Yes\\nWe c...   \n",
       "4     ABOUT FANDUEL GROUP\\n\\nFanDuel Group is a worl...   \n",
       "...                                                 ...   \n",
       "2248  Maintains systems to protect data from unautho...   \n",
       "2249  Position:\\nSenior Data Analyst (Corporate Audi...   \n",
       "2250  Title: Technical Business Analyst (SQL, Data a...   \n",
       "2251  Summary\\n\\nResponsible for working cross-funct...   \n",
       "2252  You.\\n\\nYou bring your body, mind, heart and s...   \n",
       "\n",
       "                                 Company Name  \\\n",
       "0              Vera Institute of Justice\\n3.2   \n",
       "1     Visiting Nurse Service of New York\\n3.8   \n",
       "2                            Squarespace\\n3.4   \n",
       "3                               Celerity\\n4.1   \n",
       "4                                FanDuel\\n3.9   \n",
       "...                                       ...   \n",
       "2248                       Avacend, Inc.\\n2.5   \n",
       "2249                   Arrow Electronics\\n2.9   \n",
       "2250                                 Spiceorb   \n",
       "2251         Contingent Network Services\\n3.1   \n",
       "2252                          SCL Health\\n3.4   \n",
       "\n",
       "                                     Industry  \n",
       "0                           Social Assistance  \n",
       "1            Health Care Services & Hospitals  \n",
       "2                                    Internet  \n",
       "3                                 IT Services  \n",
       "4                         Sports & Recreation  \n",
       "...                                       ...  \n",
       "2248                   Staffing & Outsourcing  \n",
       "2249                                Wholesale  \n",
       "2250                                       -1  \n",
       "2251  Enterprise Software & Network Solutions  \n",
       "2252         Health Care Services & Hospitals  \n",
       "\n",
       "[2253 rows x 3 columns]"
      ]
     },
     "execution_count": 5,
     "metadata": {},
     "output_type": "execute_result"
    }
   ],
   "source": [
    "dataAnalystSmall"
   ]
  },
  {
   "cell_type": "code",
   "execution_count": 6,
   "metadata": {},
   "outputs": [],
   "source": [
    "dataAnalystGrouped = dataAnalystSmall.groupby(['Industry']).count()"
   ]
  },
  {
   "cell_type": "code",
   "execution_count": 7,
   "metadata": {},
   "outputs": [
    {
     "name": "stdout",
     "output_type": "stream",
     "text": [
      "                                           Job Description  Company Name\n",
      "Industry                                                                \n",
      "-1                                                     353           352\n",
      "IT Services                                            325           325\n",
      "Staffing & Outsourcing                                 323           323\n",
      "Health Care Services & Hospitals                       151           151\n",
      "Consulting                                             111           111\n",
      "Computer Hardware & Software                           111           111\n",
      "Investment Banking & Asset Management                   78            78\n",
      "Enterprise Software & Network Solutions                 69            69\n",
      "Internet                                                65            65\n",
      "Banks & Credit Unions                                   51            51\n",
      "Advertising & Marketing                                 51            51\n",
      "Insurance Carriers                                      47            47\n",
      "Colleges & Universities                                 40            40\n",
      "Accounting                                              39            39\n",
      "Biotech & Pharmaceuticals                               33            33\n",
      "Social Assistance                                       23            23\n",
      "Aerospace & Defense                                     22            22\n",
      "Video Games                                             20            20\n",
      "Lending                                                 15            15\n",
      "State & Regional Agencies                               15            15\n",
      "Architectural & Engineering Services                    13            13\n",
      "Health, Beauty, & Fitness                               13            13\n",
      "Logistics & Supply Chain                                13            13\n",
      "Federal Agencies                                        12            12\n",
      "Real Estate                                             12            12\n",
      "Research & Development                                  12            12\n",
      "Consumer Products Manufacturing                         10            10\n",
      "Financial Transaction Processing                        10            10\n",
      "TV Broadcast & Cable Networks                           10            10\n",
      "Municipal Governments                                    9             9\n",
      "Construction                                             8             8\n",
      "Energy                                                   7             7\n",
      "Industrial Manufacturing                                 7             7\n",
      "Venture Capital & Private Equity                         6             6\n",
      "K-12 Education                                           6             6\n",
      "Telecommunications Services                              6             6\n",
      "Motion Picture Production & Distribution                 6             6\n",
      "Wholesale                                                6             6\n",
      "Brokerage Services                                       6             6\n",
      "Commercial Equipment Repair & Maintenance                6             6\n",
      "Electrical & Electronic Manufacturing                    6             6\n",
      "Food & Beverage Manufacturing                            6             6\n",
      "Department, Clothing, & Shoe Stores                      5             5\n",
      "Publishing                                               5             5\n",
      "Health Care Products Manufacturing                       5             5\n",
      "Casual Restaurants                                       5             5\n",
      "Home Centers & Hardware Stores                           5             5\n",
      "Cable, Internet & Telephone Providers                    5             5\n",
      "Insurance Agencies & Brokerages                          4             4\n",
      "Legal                                                    4             4\n",
      "Membership Organizations                                 4             4\n",
      "Transportation Management                                4             4\n",
      "Oil & Gas Services                                       4             4\n",
      "Automotive Parts & Accessories Stores                    4             4\n",
      "Other Retail Stores                                      3             3\n",
      "Gas Stations                                             3             3\n",
      "Sports & Recreation                                      3             3\n",
      "Preschool & Child Care                                   3             3\n",
      "Transportation Equipment Manufacturing                   3             3\n",
      "Vehicle Dealers                                          3             3\n",
      "General Merchandise & Superstores                        3             3\n",
      "Health Fundraising Organizations                         3             3\n",
      "Grocery Stores & Supermarkets                            3             3\n",
      "Education Training Services                              3             3\n",
      "Gambling                                                 3             3\n",
      "Financial Analytics & Research                           2             2\n",
      "Beauty & Personal Accessories Stores                     2             2\n",
      "General Repair & Maintenance                             2             2\n",
      "Convenience Stores & Truck Stops                         2             2\n",
      "Drug & Health Stores                                     2             2\n",
      "Utilities                                                2             2\n",
      "Security Services                                        2             2\n",
      "Miscellaneous Manufacturing                              2             2\n",
      "Building & Personnel Services                            2             2\n",
      "Food & Beverage Stores                                   2             2\n",
      "Audiovisual                                              1             1\n",
      "Trucking                                                 1             1\n",
      "Truck Rental & Leasing                                   1             1\n",
      "Consumer Electronics & Appliances Stores                 1             1\n",
      "Hotels, Motels, & Resorts                                1             1\n",
      "Stock Exchanges                                          1             1\n",
      "Express Delivery Services                                1             1\n",
      "Sporting Goods Stores                                    1             1\n",
      "Catering & Food Service Contractors                      1             1\n",
      "Chemical Manufacturing                                   1             1\n",
      "Pet & Pet Supplies Stores                                1             1\n",
      "Consumer Product Rental                                  1             1\n",
      "Metals Brokers                                           1             1\n",
      "News Outlet                                              1             1\n"
     ]
    }
   ],
   "source": [
    "pd.set_option('display.max_rows', 500)\n",
    "print(dataAnalystGrouped.sort_values(by=['Job Description'], ascending=False))"
   ]
  },
  {
   "cell_type": "code",
   "execution_count": 8,
   "metadata": {},
   "outputs": [
    {
     "data": {
      "text/plain": [
       "(89, 2)"
      ]
     },
     "execution_count": 8,
     "metadata": {},
     "output_type": "execute_result"
    }
   ],
   "source": [
    "dataAnalystGrouped.shape"
   ]
  },
  {
   "cell_type": "code",
   "execution_count": 9,
   "metadata": {},
   "outputs": [],
   "source": [
    "dataAnalystTopCat = dataAnalystSmall[dataAnalystSmall[\"Industry\"].isin(['IT Services', 'Staffing & Outsourcing', 'Health Care Services & Hospitals', 'Consulting',\n",
    "'Computer Hardware & Software', 'Investment Banking & Asset Management', 'Enterprise Software & Network Solutions', 'Internet',\n",
    "'Banks & Credit Unions', 'Advertising & Marketing'])]"
   ]
  },
  {
   "cell_type": "code",
   "execution_count": 10,
   "metadata": {},
   "outputs": [],
   "source": [
    "dataAnalystTopCatGrouped = dataAnalystTopCat.groupby(['Industry'])['Job Description'].apply(lambda x: ','.join(x)).reset_index()"
   ]
  },
  {
   "cell_type": "code",
   "execution_count": 11,
   "metadata": {},
   "outputs": [
    {
     "name": "stdout",
     "output_type": "stream",
     "text": [
      "(10, 2)\n"
     ]
    },
    {
     "data": {
      "text/html": [
       "<div>\n",
       "<style scoped>\n",
       "    .dataframe tbody tr th:only-of-type {\n",
       "        vertical-align: middle;\n",
       "    }\n",
       "\n",
       "    .dataframe tbody tr th {\n",
       "        vertical-align: top;\n",
       "    }\n",
       "\n",
       "    .dataframe thead th {\n",
       "        text-align: right;\n",
       "    }\n",
       "</style>\n",
       "<table border=\"1\" class=\"dataframe\">\n",
       "  <thead>\n",
       "    <tr style=\"text-align: right;\">\n",
       "      <th></th>\n",
       "      <th>index</th>\n",
       "      <th>Industry</th>\n",
       "      <th>Job Description</th>\n",
       "    </tr>\n",
       "  </thead>\n",
       "  <tbody>\n",
       "    <tr>\n",
       "      <th>0</th>\n",
       "      <td>0</td>\n",
       "      <td>Advertising &amp; Marketing</td>\n",
       "      <td>About Known\\n\\nKnown is a modern marketing com...</td>\n",
       "    </tr>\n",
       "    <tr>\n",
       "      <th>1</th>\n",
       "      <td>1</td>\n",
       "      <td>Banks &amp; Credit Unions</td>\n",
       "      <td>Job Description:\\n\\nWithin GMC, Data &amp; Portfol...</td>\n",
       "    </tr>\n",
       "    <tr>\n",
       "      <th>2</th>\n",
       "      <td>2</td>\n",
       "      <td>Computer Hardware &amp; Software</td>\n",
       "      <td>If interested, please reach out to Iram Shah e...</td>\n",
       "    </tr>\n",
       "    <tr>\n",
       "      <th>3</th>\n",
       "      <td>3</td>\n",
       "      <td>Consulting</td>\n",
       "      <td>About Us:\\n\\nNYSTEC is a non-profit technology...</td>\n",
       "    </tr>\n",
       "    <tr>\n",
       "      <th>4</th>\n",
       "      <td>4</td>\n",
       "      <td>Enterprise Software &amp; Network Solutions</td>\n",
       "      <td>Data Analyst Jersey City, NJ 12+ months contra...</td>\n",
       "    </tr>\n",
       "    <tr>\n",
       "      <th>5</th>\n",
       "      <td>5</td>\n",
       "      <td>Health Care Services &amp; Hospitals</td>\n",
       "      <td>Overview\\n\\nProvides analytical and technical ...</td>\n",
       "    </tr>\n",
       "    <tr>\n",
       "      <th>6</th>\n",
       "      <td>6</td>\n",
       "      <td>IT Services</td>\n",
       "      <td>Requisition NumberRR-0001939\\nRemote:Yes\\nWe c...</td>\n",
       "    </tr>\n",
       "    <tr>\n",
       "      <th>7</th>\n",
       "      <td>7</td>\n",
       "      <td>Internet</td>\n",
       "      <td>Weâre looking for a Senior Data Analyst who ...</td>\n",
       "    </tr>\n",
       "    <tr>\n",
       "      <th>8</th>\n",
       "      <td>8</td>\n",
       "      <td>Investment Banking &amp; Asset Management</td>\n",
       "      <td>About Cubist\\nCubist Systematic Strategies is ...</td>\n",
       "    </tr>\n",
       "    <tr>\n",
       "      <th>9</th>\n",
       "      <td>9</td>\n",
       "      <td>Staffing &amp; Outsourcing</td>\n",
       "      <td>Title: Data Analyst\\n\\nPosition: 1+ Year Contr...</td>\n",
       "    </tr>\n",
       "  </tbody>\n",
       "</table>\n",
       "</div>"
      ],
      "text/plain": [
       "   index                                 Industry  \\\n",
       "0      0                  Advertising & Marketing   \n",
       "1      1                    Banks & Credit Unions   \n",
       "2      2             Computer Hardware & Software   \n",
       "3      3                               Consulting   \n",
       "4      4  Enterprise Software & Network Solutions   \n",
       "5      5         Health Care Services & Hospitals   \n",
       "6      6                              IT Services   \n",
       "7      7                                 Internet   \n",
       "8      8    Investment Banking & Asset Management   \n",
       "9      9                   Staffing & Outsourcing   \n",
       "\n",
       "                                     Job Description  \n",
       "0  About Known\\n\\nKnown is a modern marketing com...  \n",
       "1  Job Description:\\n\\nWithin GMC, Data & Portfol...  \n",
       "2  If interested, please reach out to Iram Shah e...  \n",
       "3  About Us:\\n\\nNYSTEC is a non-profit technology...  \n",
       "4  Data Analyst Jersey City, NJ 12+ months contra...  \n",
       "5  Overview\\n\\nProvides analytical and technical ...  \n",
       "6  Requisition NumberRR-0001939\\nRemote:Yes\\nWe c...  \n",
       "7  Weâre looking for a Senior Data Analyst who ...  \n",
       "8  About Cubist\\nCubist Systematic Strategies is ...  \n",
       "9  Title: Data Analyst\\n\\nPosition: 1+ Year Contr...  "
      ]
     },
     "execution_count": 11,
     "metadata": {},
     "output_type": "execute_result"
    }
   ],
   "source": [
    "print(dataAnalystTopCatGrouped.shape)\n",
    "dataAnalystTopCatGrouped.reset_index()"
   ]
  },
  {
   "cell_type": "code",
   "execution_count": 12,
   "metadata": {},
   "outputs": [
    {
     "data": {
      "text/plain": [
       "(10,)"
      ]
     },
     "execution_count": 12,
     "metadata": {},
     "output_type": "execute_result"
    }
   ],
   "source": [
    "dataAnalystTopCatGrouped[\"Job Description\"].shape"
   ]
  },
  {
   "cell_type": "code",
   "execution_count": 13,
   "metadata": {},
   "outputs": [],
   "source": [
    "#remove punctuations\n",
    "\n",
    "class rempunct:\n",
    "    def __init__(self):\n",
    "        from nltk.corpus import stopwords\n",
    "        self.swords = set(stopwords.words('english'))\n",
    "        print(len(self.swords),\"stopwords present!\")\n",
    "    \n",
    "    def rem_stop_punct(self,originalText, ofilename):\n",
    "        splittedText = originalText.split()\n",
    "        lenl = len(splittedText)\n",
    "        print(\"Length is: \",lenl, splittedText[:5])\n",
    "        ofile = open(ofilename,'a')\n",
    "        \n",
    "        for r in range(lenl):\n",
    "            linex = splittedText[r]\n",
    "            linex2 = \"\".join(c for c in linex if c not in ('!','.',':',',','?',';','``','&','-','\"','(',')','[',']','0','1','2','3','4','5','6','7','8','9'))\n",
    "            linex3 = linex2.split()\n",
    "            #prog=(r+1)/len(rawlines)\n",
    "            for s in range(len(linex3)):\n",
    "                noword = linex3[s].lower()\n",
    "                if noword not in self.swords:\n",
    "                    ofile.write(noword)\n",
    "                    ofile.write(\" \") \n",
    "\n",
    "    def drawProgressBar(self,percent, barLen = 50):\t\t\t#just a progress bar so that you dont lose patience\n",
    "        sys.stdout.write(\"\\r\")\n",
    "        progress = \"\"\n",
    "        for i in range(barLen):\n",
    "            if i<int(barLen * percent):\n",
    "                progress += \"=\"\n",
    "            else:\n",
    "                progress += \" \"\n",
    "        sys.stdout.write(\"[ %s ] %.2f%%\" % (progress, percent * 100))\n",
    "        sys.stdout.flush()"
   ]
  },
  {
   "cell_type": "code",
   "execution_count": 14,
   "metadata": {},
   "outputs": [
    {
     "name": "stdout",
     "output_type": "stream",
     "text": [
      "179 stopwords present!\n",
      "Processing... Advertising & Marketing\n",
      "Length is:  21227 ['About', 'Known', 'Known', 'is', 'a']\n",
      "Processing... Banks & Credit Unions\n",
      "Length is:  32003 ['Job', 'Description:', 'Within', 'GMC,', 'Data']\n",
      "Processing... Computer Hardware & Software\n",
      "Length is:  50038 ['If', 'interested,', 'please', 'reach', 'out']\n",
      "Processing... Consulting\n",
      "Length is:  48362 ['About', 'Us:', 'NYSTEC', 'is', 'a']\n",
      "Processing... Enterprise Software & Network Solutions\n",
      "Length is:  35454 ['Data', 'Analyst', 'Jersey', 'City,', 'NJ']\n",
      "Processing... Health Care Services & Hospitals\n",
      "Length is:  84819 ['Overview', 'Provides', 'analytical', 'and', 'technical']\n",
      "Processing... IT Services\n",
      "Length is:  96150 ['Requisition', 'NumberRR-0001939', 'Remote:Yes', 'We', 'collaborate.']\n",
      "Processing... Internet\n",
      "Length is:  34604 ['Weâ\\x80\\x99re', 'looking', 'for', 'a', 'Senior']\n",
      "Processing... Investment Banking & Asset Management\n",
      "Length is:  41725 ['About', 'Cubist', 'Cubist', 'Systematic', 'Strategies']\n",
      "Processing... Staffing & Outsourcing\n",
      "Length is:  107734 ['Title:', 'Data', 'Analyst', 'Position:', '1+']\n"
     ]
    }
   ],
   "source": [
    "rp = rempunct()\n",
    "for index, row in dataAnalystTopCatGrouped.iterrows():\n",
    "    ofname = '../processFiles/trainCatFiles/cat' + str(index)+ '_' + '-'.join(row['Industry'].split()) + '.txt'    \n",
    "    print(\"Processing...\",row['Industry'])\n",
    "    rp.rem_stop_punct(row['Job Description'],ofname)"
   ]
  },
  {
   "cell_type": "code",
   "execution_count": 3,
   "metadata": {},
   "outputs": [
    {
     "name": "stdout",
     "output_type": "stream",
     "text": [
      "/Users/arnabborah/Documents/repositories/textclusteringDBSCAN\n",
      "found cat5_Health-Care-Services-&-Hospitals.txt\n",
      "found cat6_IT-Services.txt\n",
      "found cat0_Advertising-&-Marketing.txt\n",
      "found cat7_Internet.txt\n",
      "found cat4_Enterprise-Software-&-Network-Solutions.txt\n",
      "found cat1_Banks-&-Credit-Unions.txt\n",
      "found cat3_Consulting.txt\n",
      "found cat9_Staffing-&-Outsourcing.txt\n",
      "found cat2_Computer-Hardware-&-Software.txt\n",
      "found cat8_Investment-Banking-&-Asset-Management.txt\n"
     ]
    },
    {
     "data": {
      "text/plain": [
       "10"
      ]
     },
     "execution_count": 3,
     "metadata": {},
     "output_type": "execute_result"
    }
   ],
   "source": [
    "# Term Frequency(TF)\n",
    "from collections import Counter\n",
    "import operator\n",
    "import os\n",
    "import sys\n",
    "import string\n",
    "import argparse\n",
    "import numpy as np\n",
    "\n",
    "def getDocumentTF(fname):\n",
    "    #file1 = open(\"../processFiles/trainCatFiles/cat2_Computer-Hardware-&-Software.txt\",\"r\")\n",
    "    file1 = open(fname)\n",
    "    readfile = file1.read()\n",
    "    wordsInFile = readfile.split()\n",
    "    counts_all = Counter(wordsInFile)\n",
    "    words, count_values = zip(*counts_all.items())\n",
    "    # Sort both lists by frequency in values (Schwartzian transform) - thanks, http://stackoverflow.com/questions/9543211/sorting-a-list-in-python-using-the-result-from-sorting-another-list\n",
    "    values_sorted, words_sorted = zip(*sorted(zip(count_values, words), key=operator.itemgetter(0), reverse=True))\n",
    "    # Top N\n",
    "    #top_n = 250\n",
    "    #words_sorted_top = words_sorted[0:top_n]\n",
    "    #values_sorted_top = values_sorted[0:top_n]\n",
    "    countdf = pd.DataFrame({'count': values_sorted, 'word': words_sorted})\n",
    "    return countdf\n",
    "    \n",
    "#def processAllDocuments():\n",
    "owd = \"/Users/arnabborah/Documents/repositories/textclusteringDBSCAN\"\n",
    "print(owd)\n",
    "fld = \"/Users/arnabborah/Documents/repositories/textclusteringDBSCAN/processFiles/trainCatFiles/\"\n",
    "os.chdir(fld)\n",
    "arrTermFreq = []\n",
    "for file in glob.glob(\"*.txt\"):\n",
    "    print(\"found\",file)\n",
    "    doctf = getDocumentTF(file)\n",
    "    arrTermFreq.append(doctf)\n",
    "os.chdir(owd)\n",
    "len(arrTermFreq)"
   ]
  },
  {
   "cell_type": "code",
   "execution_count": 18,
   "metadata": {},
   "outputs": [],
   "source": [
    "def getTermFreq(docId,term):\n",
    "    valx = arrTermFreq[docId][arrTermFreq[docId]['word']==term]['count'].tolist()\n",
    "    if len(valx)==0:\n",
    "        return 0\n",
    "    return valx[0]\n",
    "\n",
    "def drawProgressBar(percent, barLen = 50):\t\t\t#just a progress bar so that you dont lose patience\n",
    "    sys.stdout.write(\"\\r\")\n",
    "    progress = \"\"\n",
    "    for i in range(barLen):\n",
    "        if i<int(barLen * percent):\n",
    "            progress += \"=\"\n",
    "        else:\n",
    "            progress += \" \"\n",
    "    sys.stdout.write(\"[ %s ] %.2f%%\" % (progress, percent * 100))\n",
    "    sys.stdout.flush()\t"
   ]
  },
  {
   "cell_type": "code",
   "execution_count": 19,
   "metadata": {},
   "outputs": [
    {
     "name": "stdout",
     "output_type": "stream",
     "text": [
      "54\n",
      "20\n",
      "20\n",
      "5\n",
      "37\n",
      "40\n",
      "91\n",
      "29\n"
     ]
    }
   ],
   "source": [
    "for j in range(1,9):\n",
    "    b = getTermFreq(j,\"candidate\")\n",
    "    print(b)"
   ]
  },
  {
   "cell_type": "code",
   "execution_count": 73,
   "metadata": {},
   "outputs": [
    {
     "name": "stdout",
     "output_type": "stream",
     "text": [
      "/Users/arnabborah/Documents/repositories/textclusteringDBSCAN\n",
      "found cat5_Health-Care-Services-&-Hospitals.txt\n",
      "found cat6_IT-Services.txt\n",
      "found cat0_Advertising-&-Marketing.txt\n",
      "found cat7_Internet.txt\n",
      "found cat4_Enterprise-Software-&-Network-Solutions.txt\n",
      "found cat1_Banks-&-Credit-Unions.txt\n",
      "found cat3_Consulting.txt\n",
      "found cat9_Staffing-&-Outsourcing.txt\n",
      "found cat2_Computer-Hardware-&-Software.txt\n",
      "found cat8_Investment-Banking-&-Asset-Management.txt\n",
      "50605 375812\n",
      "Computing inverse document frequencies\n",
      "[ ================================================== ] 100.00%"
     ]
    }
   ],
   "source": [
    "#Inverse Document Frequency(IDF)\n",
    "\n",
    "import math\n",
    "\n",
    "owd = \"/Users/arnabborah/Documents/repositories/textclusteringDBSCAN\"\n",
    "print(owd)\n",
    "fld = \"/Users/arnabborah/Documents/repositories/textclusteringDBSCAN/processFiles/trainCatFiles/\"\n",
    "os.chdir(fld)\n",
    "termsForIDF = []\n",
    "totalwords = 0 \n",
    "for file in glob.glob(\"*.txt\"):\n",
    "    print(\"found\",file)    \n",
    "    file1 = open(file)\n",
    "    readfile = file1.read()\n",
    "    wordsInFile = readfile.split()\n",
    "    lenx=len(wordsInFile)\n",
    "    totalwords+=lenx\n",
    "    termsForIDF.extend(set(wordsInFile))\n",
    "print(len(termsForIDF),totalwords)\n",
    "\n",
    "def getIdf(term):\n",
    "    countPresentDocs = 0\n",
    "    for i in range(len(arrTermFreq)):\n",
    "        tfx = getTermFreq(i,term)\n",
    "        #print(tfx)\n",
    "        if tfx>0:\n",
    "            countPresentDocs+=1\n",
    "            #print(\"found one\")\n",
    "    #print(countPresentDocs,\"countPresentDocs\")\n",
    "    return countPresentDocs\n",
    "    \n",
    "    return logg1\n",
    "\n",
    "#idfMatrix = {'term':'Zara','idfx':'1'}\n",
    "idfMatrix = {}\n",
    "lenv = len(termsForIDF)\n",
    "#lenv = 100\n",
    "print(\"Computing inverse document frequencies\")\n",
    "for j in range(lenv):\n",
    "    el = termsForIDF[j]\n",
    "    idfx = getIdf(el)\n",
    "    idfy = lenv/float(1+idfx)\n",
    "    idfz = math.log(idfy,10)\n",
    "    idfMatrix[el] = [idfz]\n",
    "    prog=(j+1)/lenv\n",
    "    drawProgressBar(prog)\n",
    "    \n",
    "#pd.DataFrame(idfMatrix)\n",
    "idfMatrixDF = pd.DataFrame.from_dict(idfMatrix, orient = 'index')"
   ]
  },
  {
   "cell_type": "code",
   "execution_count": 74,
   "metadata": {},
   "outputs": [],
   "source": [
    "owd = \"/Users/arnabborah/Documents/repositories/textclusteringDBSCAN\"\n",
    "os.chdir(owd)\n",
    "idfMatrixDF.to_csv('processFiles/idfMatrixDF.csv', header=False)"
   ]
  },
  {
   "cell_type": "code",
   "execution_count": 104,
   "metadata": {},
   "outputs": [],
   "source": [
    "#tfidf\n",
    "\n",
    "class flingTFIDF:\n",
    "    def __init__(self):\n",
    "        self.nof = 0\n",
    "        self.tfidfMatrix = []\n",
    "        #allfnames = self.allfiles(\"/Users/arnabborah/Documents/repositories/textclusteringDBSCAN/processFiles/trainCatFiles\")\n",
    "\n",
    "    def compute_tfidf(self,fileIndex,filename):\n",
    "        tfidfFileMatrix = {}\n",
    "        file1 = open(filename)\n",
    "        readfile = file1.read()\n",
    "        wordsInFile = set(readfile.split())\n",
    "        for word in wordsInFile:\n",
    "            tf_final = getTermFreq(fileIndex,word)\n",
    "            idf_final = idfMatrix[word][0]\n",
    "            tfidf_final = tf_final * idf_final\n",
    "            tfidfFileMatrix[word] = tfidf_final\n",
    "        return tfidfFileMatrix\n",
    "        \n",
    "    def getallfilenames(self,foldername):#returns the name of all files inside the source folder. \t\t\n",
    "        owd = os.getcwd()\n",
    "        fld = foldername + \"/\"\n",
    "        os.chdir(fld)\t\t\t\t\t#this is the name of the folder from which the file names are returned.\n",
    "        fnamearr = []\t\t\t\t\t\t#empty array, the names of files are appended to this array, and returned.\n",
    "        for file in glob.glob(\"*.txt\"):\n",
    "            fnamearr.append(file)\n",
    "        os.chdir(owd)\n",
    "        return fnamearr\n",
    "        \n",
    "    def computeTFIDFallfiles(self,flist):\n",
    "        for fin in range(len(flist)):\n",
    "            fname = \"/Users/arnabborah/Documents/repositories/textclusteringDBSCAN/processFiles/trainCatFiles/\" + flist[fin]\n",
    "            print(\"file:\",fname)\n",
    "            tfidfMAT = self.compute_tfidf(fin,fname)\n",
    "            self.tfidfMatrix.append(tfidfMAT)\n",
    "        print(\"length of tfidfMatrix:\",len(self.tfidfMatrix))        "
   ]
  },
  {
   "cell_type": "code",
   "execution_count": 105,
   "metadata": {},
   "outputs": [
    {
     "name": "stdout",
     "output_type": "stream",
     "text": [
      "file: /Users/arnabborah/Documents/repositories/textclusteringDBSCAN/processFiles/trainCatFiles/cat5_Health-Care-Services-&-Hospitals.txt\n",
      "file: /Users/arnabborah/Documents/repositories/textclusteringDBSCAN/processFiles/trainCatFiles/cat6_IT-Services.txt\n",
      "file: /Users/arnabborah/Documents/repositories/textclusteringDBSCAN/processFiles/trainCatFiles/cat0_Advertising-&-Marketing.txt\n",
      "file: /Users/arnabborah/Documents/repositories/textclusteringDBSCAN/processFiles/trainCatFiles/cat7_Internet.txt\n",
      "file: /Users/arnabborah/Documents/repositories/textclusteringDBSCAN/processFiles/trainCatFiles/cat4_Enterprise-Software-&-Network-Solutions.txt\n",
      "file: /Users/arnabborah/Documents/repositories/textclusteringDBSCAN/processFiles/trainCatFiles/cat1_Banks-&-Credit-Unions.txt\n",
      "file: /Users/arnabborah/Documents/repositories/textclusteringDBSCAN/processFiles/trainCatFiles/cat3_Consulting.txt\n",
      "file: /Users/arnabborah/Documents/repositories/textclusteringDBSCAN/processFiles/trainCatFiles/cat9_Staffing-&-Outsourcing.txt\n",
      "file: /Users/arnabborah/Documents/repositories/textclusteringDBSCAN/processFiles/trainCatFiles/cat2_Computer-Hardware-&-Software.txt\n",
      "file: /Users/arnabborah/Documents/repositories/textclusteringDBSCAN/processFiles/trainCatFiles/cat8_Investment-Banking-&-Asset-Management.txt\n",
      "length of tfidfMatrix: 10\n"
     ]
    }
   ],
   "source": [
    "ft = flingTFIDF()\n",
    "allfnames = ft.getallfilenames(\"/Users/arnabborah/Documents/repositories/textclusteringDBSCAN/processFiles/trainCatFiles\")\n",
    "ft.computeTFIDFallfiles(allfnames)"
   ]
  },
  {
   "cell_type": "code",
   "execution_count": 106,
   "metadata": {},
   "outputs": [
    {
     "name": "stdout",
     "output_type": "stream",
     "text": [
      "10\n",
      "19483\n"
     ]
    }
   ],
   "source": [
    "print(len(ft.tfidfMatrix))\n",
    "print(len(idfMatrix))"
   ]
  },
  {
   "cell_type": "code",
   "execution_count": 108,
   "metadata": {},
   "outputs": [
    {
     "name": "stdout",
     "output_type": "stream",
     "text": [
      "10\n",
      "filename: cat5_Health-Care-Services-&-Hospitals.txt_characteristic.csv\n",
      "filename: cat6_IT-Services.txt_characteristic.csv\n",
      "filename: cat0_Advertising-&-Marketing.txt_characteristic.csv\n",
      "filename: cat7_Internet.txt_characteristic.csv\n",
      "filename: cat4_Enterprise-Software-&-Network-Solutions.txt_characteristic.csv\n",
      "filename: cat1_Banks-&-Credit-Unions.txt_characteristic.csv\n",
      "filename: cat3_Consulting.txt_characteristic.csv\n",
      "filename: cat9_Staffing-&-Outsourcing.txt_characteristic.csv\n",
      "filename: cat2_Computer-Hardware-&-Software.txt_characteristic.csv\n",
      "filename: cat8_Investment-Banking-&-Asset-Management.txt_characteristic.csv\n"
     ]
    }
   ],
   "source": [
    "# save characteristic files for categories assigned \n",
    "fwd = \"/Users/arnabborah/Documents/repositories/textclusteringDBSCAN/processFiles/characteristicFiles\"\n",
    "os.chdir(fwd)\n",
    "print(len(ft.tfidfMatrix))\n",
    "for matrixID in range(len(ft.tfidfMatrix)):\n",
    "    fname_orig = allfnames[matrixID]\n",
    "    newfname = fname_orig.split()[0]+'_characteristic.csv'\n",
    "    print(\"filename:\",newfname)\n",
    "    matrixDF = pd.DataFrame.from_dict(ft.tfidfMatrix[matrixID], orient = 'index')\n",
    "    matrixDF.to_csv(newfname, header=False)\n",
    "os.chdir(\"/Users/arnabborah/Documents/repositories/textclusteringDBSCAN\")"
   ]
  },
  {
   "cell_type": "code",
   "execution_count": null,
   "metadata": {},
   "outputs": [],
   "source": []
  }
 ],
 "metadata": {
  "kernelspec": {
   "display_name": "Python 3",
   "language": "python",
   "name": "python3"
  },
  "language_info": {
   "codemirror_mode": {
    "name": "ipython",
    "version": 3
   },
   "file_extension": ".py",
   "mimetype": "text/x-python",
   "name": "python",
   "nbconvert_exporter": "python",
   "pygments_lexer": "ipython3",
   "version": "3.6.5"
  }
 },
 "nbformat": 4,
 "nbformat_minor": 4
}

{
 "cells": [
  {
   "cell_type": "code",
   "execution_count": 28,
   "metadata": {},
   "outputs": [
    {
     "name": "stderr",
     "output_type": "stream",
     "text": [
      "Matplotlib is building the font cache; this may take a moment.\n"
     ]
    }
   ],
   "source": [
    "from imp import reload\n",
    "from nltk.corpus import stopwords\n",
    "from collections import Counter\n",
    "import pandas as pd\n",
    "import numpy as np\n",
    "import matplotlib as mpl\n",
    "import nltk,re,pprint\n",
    "import sys,glob,os\n",
    "import operator, string, argparse, math, random\n",
    "import matplotlib.pyplot as plot"
   ]
  },
  {
   "cell_type": "code",
   "execution_count": 56,
   "metadata": {},
   "outputs": [],
   "source": [
    "class flingPretrained:\n",
    "    def __init__(self,data,nthres):\n",
    "        self.data = data\n",
    "        self.near_threshold = nthres\n",
    "        self.nDocs = len(self.data)\n",
    "        self.allDistances = {}\n",
    "        self.wordVecModel = None\n",
    "        print(\"\\nDBSCAN initialized!\\n\")\n",
    "        \n",
    "    def loadPretrainedWordVectors(self,vecType):\n",
    "        if vecType == 'glove':\n",
    "            self.wordVecModel = self.loadGloveModel()\n",
    "            print(\"GloVe Vectors Loaded!\\n\")\n",
    "\n",
    "    def loadGloveModel(self):\n",
    "        print(\"Loading Glove Model\\n\")\n",
    "        f = open('../datasets/glove.6B/glove.6B.50d.txt','r')\n",
    "        gloveModel = {}\n",
    "        for line in f:\n",
    "            splitLines = line.split()\n",
    "            word = splitLines[0]\n",
    "            wordEmbedding = np.array([float(value) for value in splitLines[1:]])\n",
    "            gloveModel[word] = wordEmbedding\n",
    "        print(len(gloveModel),\" words loaded!\\n\")\n",
    "        return gloveModel\n",
    "    \n",
    "    def getDocVector(self,doc_Id):\n",
    "        gvl=self.getGloveVectorList(listx)\n",
    "        glove_dv = np.mean(gvl,axis=0)\n",
    "        return(glove_dv)\n",
    "    \n",
    "    def addDocumentGloveVector(self):\n",
    "        vecL = []\n",
    "        for indx in range(self.nDocs):\n",
    "            listWords_1 = set(list(self.data['tfMatrix'][int(indx)]['word']))\n",
    "            gvl=self.getGloveVectorList(listWords_1)\n",
    "            vecL.append(np.mean(gvl,axis=0))\n",
    "        self.data['glove-vector'] = vecL\n",
    "\n",
    "    # distance between two documents using TF-IDF\n",
    "    def distanceBtnTwoDocs(self, docId_1, docId_2):\n",
    "        listWords_1 = set(list(self.data['tfMatrix'][int(docId_1)]['word']))\n",
    "        listWords_2 = set(list(self.data['tfMatrix'][int(docId_2)]['word']))\n",
    "        common = listWords_1.intersection(listWords_2)\n",
    "        diff1_2 = listWords_1.difference(listWords_2)\n",
    "        diff2_1 = listWords_2.difference(listWords_1)\n",
    "        sumwt1 = self.data['sumTFIDF'][docId_1]\n",
    "        sumwt2 = self.data['sumTFIDF'][docId_2]\n",
    "        score_common, score_doc1, score_doc2 = 0,0,0\n",
    "        #print(len(common),len(diff1_2),len(diff2_1))\n",
    "        for word_c in common:\n",
    "            score_1 = float(self.data['tfMatrix'][docId_1].loc[self.data['tfMatrix'][docId_1]['word'] == word_c]['tf-idf'])\n",
    "            score_2 = float(self.data['tfMatrix'][docId_2].loc[self.data['tfMatrix'][docId_2]['word'] == word_c]['tf-idf'])\n",
    "            score_common += abs(score_1/float(sumwt1) - score_2/float(sumwt2))\n",
    "        for word_d12 in diff1_2:\n",
    "            score_1 = float(self.data['tfMatrix'][docId_1].loc[self.data['tfMatrix'][docId_1]['word'] == word_d12]['tf-idf'])\n",
    "            score_doc1 += score_1/float(sumwt1)\n",
    "        for word_d21 in diff2_1:\n",
    "            score_2 = float(self.data['tfMatrix'][docId_2].loc[self.data['tfMatrix'][docId_2]['word'] == word_d21]['tf-idf'])\n",
    "            score_doc2 += score_2/float(sumwt2)\n",
    "        score_total = score_common + score_doc1 + score_doc2\n",
    "        return(score_total)\n",
    "    \n",
    "    def getGloveVectorList(self,listx):\n",
    "        vecList = []\n",
    "        nf = []\n",
    "        for w in listx:\n",
    "            try:\n",
    "                vecList.append(self.wordVecModel[w])\n",
    "            except:\n",
    "                nf.append(w)\n",
    "                #print(w,\"not found in glove model!\")\n",
    "                continue\n",
    "        vecArray = np.stack(vecList, axis=0 )\n",
    "        return vecArray\n",
    "    \n",
    "    def getDocVector(self,listx):\n",
    "        gvl=self.getGloveVectorList(listx)\n",
    "        glove_dv = np.mean(gvl,axis=0)\n",
    "        return(glove_dv)\n",
    "    \n",
    "    def getGloveDistance(self,docId_1,docId_2,method):\n",
    "        listWords_1 = set(list(self.data['tfMatrix'][int(docId_1)]['word']))\n",
    "        listWords_2 = set(list(self.data['tfMatrix'][int(docId_2)]['word']))\n",
    "        if method == 'average':\n",
    "            dv_1 = self.getDocVector(listWords_1)\n",
    "            dv_2 = self.getDocVector(listWords_2)\n",
    "            #print(\"dv_1\",dv_1)\n",
    "            #print(\"dv_2\",dv_2)\n",
    "            dist = np.linalg.norm(dv_1-dv_2)\n",
    "            return dist\n",
    "              \n",
    "    def drawProgressBar(self, percent, barLen = 50):\t\t\t#just a progress bar so that you dont lose patience\n",
    "        sys.stdout.write(\"\\r\")\n",
    "        progress = \"\"\n",
    "        for i in range(barLen):\n",
    "            if i<int(barLen * percent):\n",
    "                progress += \"=\"\n",
    "            else:\n",
    "                progress += \" \"\n",
    "        sys.stdout.write(\"[ %s ] %.2f%%\" % (progress, percent * 100))\n",
    "        sys.stdout.flush()\t\n",
    "\n",
    "    #sample distance between n random documents \n",
    "    def getDistanceDistribution(self,numx):\n",
    "        numHalf = int(numx/2)\n",
    "        doca,docb = [],[]\n",
    "        for i in range(numHalf):\n",
    "            doca.append(random.randint(1,1026))\n",
    "            docb.append(random.randint(1027,2053))\n",
    "        distanceSample = []\n",
    "        total = numHalf*numHalf\n",
    "        for doc_1 in range(len(doca)):\n",
    "            for doc_2 in range(len(docb)):\n",
    "                distanceSample.append(self.getGloveDistance(doca[doc_1],docb[doc_2],'average'))\n",
    "                cov = doc_1*numHalf + doc_2\n",
    "                prog=(cov+1)/total\n",
    "                self.drawProgressBar(prog)\n",
    "        pltx = plot.hist(distanceSample,bins=20)\n",
    "        return(pltx)"
   ]
  },
  {
   "cell_type": "code",
   "execution_count": 57,
   "metadata": {},
   "outputs": [
    {
     "name": "stdout",
     "output_type": "stream",
     "text": [
      "\n",
      "DBSCAN initialized!\n",
      "\n",
      "Loading Glove Model\n",
      "\n",
      "400000  words loaded!\n",
      "\n",
      "GloVe Vectors Loaded!\n",
      "\n"
     ]
    }
   ],
   "source": [
    "dataProcessed = pd.read_pickle('../processFiles/data_tfidf_processed.pkl')\n",
    "fdb = flingDBSCAN(dataProcessed)\n",
    "fdb.loadPretrainedWordVectors('glove')"
   ]
  },
  {
   "cell_type": "code",
   "execution_count": 59,
   "metadata": {},
   "outputs": [
    {
     "name": "stdout",
     "output_type": "stream",
     "text": [
      "[ ================================================== ] 100.00%"
     ]
    },
    {
     "data": {
      "text/plain": [
       "(array([1., 0., 3., 3., 3., 3., 2., 8., 1., 3., 2., 1., 0., 0., 0., 1., 0.,\n",
       "        3., 0., 2.]),\n",
       " array([0.32430842, 0.37069877, 0.41708911, 0.46347946, 0.5098698 ,\n",
       "        0.55626015, 0.60265049, 0.64904084, 0.69543118, 0.74182152,\n",
       "        0.78821187, 0.83460221, 0.88099256, 0.9273829 , 0.97377325,\n",
       "        1.02016359, 1.06655394, 1.11294428, 1.15933463, 1.20572497,\n",
       "        1.25211532]),\n",
       " <BarContainer object of 20 artists>)"
      ]
     },
     "execution_count": 59,
     "metadata": {},
     "output_type": "execute_result"
    },
    {
     "data": {
      "image/png": "[encoded data removed]",
      "text/plain": [
       "<Figure size 432x288 with 1 Axes>"
      ]
     },
     "metadata": {
      "needs_background": "light"
     },
     "output_type": "display_data"
    }
   ],
   "source": [
    "#get distributions for different number of documents\n",
    "fdb.getDistanceDistribution(12)"
   ]
  },
  {
   "cell_type": "code",
   "execution_count": 60,
   "metadata": {},
   "outputs": [
    {
     "name": "stdout",
     "output_type": "stream",
     "text": [
      "[ ================================================== ] 100.00%"
     ]
    },
    {
     "data": {
      "text/plain": [
       "(array([  2.,   0.,  27., 195., 430., 455., 403., 395., 266., 134.,  67.,\n",
       "         42.,  20.,  12.,   9.,  10.,  21.,   8.,   1.,   3.]),\n",
       " array([0.08832741, 0.18676094, 0.28519447, 0.383628  , 0.48206153,\n",
       "        0.58049506, 0.67892858, 0.77736211, 0.87579564, 0.97422917,\n",
       "        1.0726627 , 1.17109623, 1.26952975, 1.36796328, 1.46639681,\n",
       "        1.56483034, 1.66326387, 1.7616974 , 1.86013092, 1.95856445,\n",
       "        2.05699798]),\n",
       " <BarContainer object of 20 artists>)"
      ]
     },
     "execution_count": 60,
     "metadata": {},
     "output_type": "execute_result"
    },
    {
     "data": {
      "image/png": "[encoded data removed]",
      "text/plain": [
       "<Figure size 432x288 with 1 Axes>"
      ]
     },
     "metadata": {
      "needs_background": "light"
     },
     "output_type": "display_data"
    }
   ],
   "source": [
    "fdb.getDistanceDistribution(100)"
   ]
  },
  {
   "cell_type": "code",
   "execution_count": 61,
   "metadata": {},
   "outputs": [
    {
     "name": "stdout",
     "output_type": "stream",
     "text": [
      "[ ================================================== ] 100.00%"
     ]
    },
    {
     "data": {
      "text/plain": [
       "(array([   5.,    0.,    5.,  159.,  806., 1781., 2065., 1699., 1128.,\n",
       "         796.,  562.,  412.,  280.,  141.,   99.,   31.,   18.,    7.,\n",
       "           0.,    6.]),\n",
       " array([0.        , 0.0951702 , 0.19034041, 0.28551061, 0.38068082,\n",
       "        0.47585102, 0.57102122, 0.66619143, 0.76136163, 0.85653184,\n",
       "        0.95170204, 1.04687224, 1.14204245, 1.23721265, 1.33238286,\n",
       "        1.42755306, 1.52272326, 1.61789347, 1.71306367, 1.80823388,\n",
       "        1.90340408]),\n",
       " <BarContainer object of 20 artists>)"
      ]
     },
     "execution_count": 61,
     "metadata": {},
     "output_type": "execute_result"
    },
    {
     "data": {
      "image/png": "[encoded data removed]",
      "text/plain": [
       "<Figure size 432x288 with 1 Axes>"
      ]
     },
     "metadata": {
      "needs_background": "light"
     },
     "output_type": "display_data"
    }
   ],
   "source": [
    "fdb.getDistanceDistribution(200)"
   ]
  },
  {
   "cell_type": "code",
   "execution_count": 62,
   "metadata": {},
   "outputs": [
    {
     "name": "stdout",
     "output_type": "stream",
     "text": [
      "[ ================================================== ] 100.00%"
     ]
    },
    {
     "data": {
      "text/plain": [
       "(array([5.5000e+01, 0.0000e+00, 2.2600e+02, 4.4460e+03, 1.3129e+04,\n",
       "        1.6116e+04, 1.2372e+04, 7.4690e+03, 3.8440e+03, 2.2510e+03,\n",
       "        1.1180e+03, 5.7400e+02, 3.8600e+02, 1.6200e+02, 9.5000e+01,\n",
       "        9.5000e+01, 1.2100e+02, 3.0000e+01, 9.0000e+00, 2.0000e+00]),\n",
       " array([0.        , 0.11873617, 0.23747233, 0.3562085 , 0.47494466,\n",
       "        0.59368083, 0.71241699, 0.83115316, 0.94988932, 1.06862549,\n",
       "        1.18736165, 1.30609782, 1.42483398, 1.54357015, 1.66230631,\n",
       "        1.78104248, 1.89977864, 2.01851481, 2.13725097, 2.25598714,\n",
       "        2.3747233 ]),\n",
       " <BarContainer object of 20 artists>)"
      ]
     },
     "execution_count": 62,
     "metadata": {},
     "output_type": "execute_result"
    },
    {
     "data": {
      "image/png": "[encoded data removed]",
      "text/plain": [
       "<Figure size 432x288 with 1 Axes>"
      ]
     },
     "metadata": {
      "needs_background": "light"
     },
     "output_type": "display_data"
    }
   ],
   "source": [
    "fdb.getDistanceDistribution(500)"
   ]
  },
  {
   "cell_type": "code",
   "execution_count": null,
   "metadata": {},
   "outputs": [],
   "source": []
  }
 ],
 "metadata": {
  "kernelspec": {
   "display_name": "Python 3",
   "language": "python",
   "name": "python3"
  },
  "language_info": {
   "codemirror_mode": {
    "name": "ipython",
    "version": 3
   },
   "file_extension": ".py",
   "mimetype": "text/x-python",
   "name": "python",
   "nbconvert_exporter": "python",
   "pygments_lexer": "ipython3",
   "version": "3.6.5"
  }
 },
 "nbformat": 4,
 "nbformat_minor": 4
}
